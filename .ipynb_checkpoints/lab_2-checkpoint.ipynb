{
 "cells": [
  {
   "cell_type": "markdown",
   "metadata": {},
   "source": [
    "# Lab 2: GPs for Non-Gaussian Likelihoods and Big Data\n",
    "### Gaussian Process Summer School 2020\n",
    "This lab introduces Gaussian process regression for data with non-Gaussian likelihoods, and shows how this can be applied to classification. The concept of sparse methods for Gaussian process regression is introduced for creating a scalable regression model, and this is combined with a large classification problem.\n",
    "\n",
    "As with Lab 1, the notebook uses `GPy` for handling the regression model and likelihoods."
   ]
  },
  {
   "cell_type": "markdown",
   "metadata": {},
   "source": [
    "##  1. Getting started\n",
    "\n",
    "First we setup our notebook with the libraries we are going to use. As with Lab 1, we use `numpy` for maths functionality, `pyplot` for plotting, and `GPy` for Gaussian processes."
   ]
  },
  {
   "cell_type": "code",
   "execution_count": 1,
   "metadata": {
    "scrolled": true
   },
   "outputs": [],
   "source": [
    "# Support for maths\n",
    "import numpy as np\n",
    "# Plotting tools\n",
    "from matplotlib import pyplot as plt\n",
    "# we use the following for plotting figures in jupyter\n",
    "%matplotlib inline\n",
    "\n",
    "import warnings\n",
    "warnings.filterwarnings('ignore')\n",
    "\n",
    "# GPy: Gaussian processes library\n",
    "import GPy"
   ]
  },
  {
   "cell_type": "markdown",
   "metadata": {},
   "source": [
    "The documentation for `GPy` is available at [gpy.readthedocs.io](http://gpy.readthedocs.io/en/deploy/). We will be using GPy to define our kernels, and regression. Note that `GPy` also contains plotting utilities, but we will not use these in this lab.\n",
    "\n",
    "We will recycle our GP plotting utility from Lab 1:"
   ]
  },
  {
   "cell_type": "code",
   "execution_count": 2,
   "metadata": {
    "scrolled": true
   },
   "outputs": [],
   "source": [
    "def plot_gp(X, m, C, training_points=None):\n",
    "    \"\"\" Plotting utility to plot a GP fit with 95% confidence interval \"\"\"\n",
    "    # Plot 95% confidence interval \n",
    "    plt.fill_between(X[:,0],\n",
    "                     m[:,0] - 1.96*np.sqrt(np.diag(C)), # 95% confidence interval of a Gaussian is\n",
    "                     m[:,0] + 1.96*np.sqrt(np.diag(C)), # .. contained within mean +/- 1.96*s.d.\n",
    "                     alpha=0.5)\n",
    "    # Plot GP mean and initial training points\n",
    "    plt.plot(X, m, \"-\")\n",
    "    plt.legend(labels=[\"GP fit\"])\n",
    "    \n",
    "    plt.xlabel(\"x\"), plt.ylabel(\"f\")\n",
    "    \n",
    "    # Plot training points if included\n",
    "    if training_points is not None:\n",
    "        X_, Y_ = training_points\n",
    "        plt.plot(X_, Y_, \"kx\", mew=2)\n",
    "        plt.legend(labels=[\"GP fit\", \"sample points\"])"
   ]
  },
  {
   "cell_type": "markdown",
   "metadata": {},
   "source": [
    "---\n",
    "## 2. Non-Gaussian likelihoods\n",
    "\n",
    "Consider the regression model:\n",
    "\n",
    "$$\n",
    "    \\mathbf{y} \\sim \\pi(\\mathbf{X}, \\varphi),\n",
    "$$\n",
    "where $\\mathbf{y}$ are some observations given input $\\mathbf{X}$ distributed by some likelihood function with parameters $\\varphi$.\n",
    "\n",
    "In yesterday's lab, we looked at regression models with Gaussian process priors and Gaussian likelihoods:\n",
    "\n",
    "$$\n",
    "    \\mathbf{y} \\sim \\mathcal{N}(f(\\mathbf{X}), \\sigma^2) \\qquad \\text{which can equivalently be written} \\qquad \\frac{1}{\\sigma}(\\mathbf{y} - f(\\mathbf{X})) \\sim \\mathcal{N}(0, 1)\n",
    "$$\n",
    "\n",
    "We assume $f \\sim \\mathcal{GP}(m(\\cdot), k(\\cdot,\\cdot))$ and $\\sigma^2$ is the variance of some additive observation noise $\\epsilon \\sim \\mathcal{N}(0, \\sigma^2)$. However, often this is not the best way to model a problem, for example in observation models with outliers, or classification problems. For this, we have to make approximations of the likelihood to fit into the GP regression model.\n",
    "\n",
    "Consider the Olympic men's marathon data, which we will load from a local directory [[full download here]](https://github.com/gpschools/labs/raw/master/.resources/olympic_marathon_men):"
   ]
  },
  {
   "cell_type": "code",
   "execution_count": 3,
   "metadata": {
    "scrolled": true
   },
   "outputs": [
    {
     "name": "stdout",
     "output_type": "stream",
     "text": [
      "\n",
      "Data keys:\n",
      "dict_keys(['X', 'Y', 'citation', 'details', 'files', 'license', 'size', 'urls'])\n",
      "\n",
      "Citation:\n",
      "None\n",
      "\n",
      "Info:\n",
      "Olympic mens' marathon gold medal winning times from 1896 to 2012. Time given in pace (minutes per kilometer). Data is originally downloaded and collated from Wikipedia, we are not responsible for errors in the data\n"
     ]
    }
   ],
   "source": [
    "import pickle\n",
    "\n",
    "with open(\"./data/olympic_marathon_men\", \"rb\") as fid:\n",
    "    data = pickle.load(fid)\n",
    "\n",
    "print(\"\\nData keys:\")\n",
    "print(data.keys())\n",
    "\n",
    "print(\"\\nCitation:\")\n",
    "print(data['citation'])\n",
    "\n",
    "print(\"\\nInfo:\")\n",
    "print(data['details'])"
   ]
  },
  {
   "cell_type": "code",
   "execution_count": 4,
   "metadata": {
    "scrolled": false
   },
   "outputs": [
    {
     "data": {
      "image/png": "[encoded data removed]",
      "text/plain": [
       "<Figure size 1008x576 with 1 Axes>"
      ]
     },
     "metadata": {
      "needs_background": "light"
     },
     "output_type": "display_data"
    }
   ],
   "source": [
    "# Training data (X = input, Y = observation)\n",
    "X, y = data['X'], data['Y']\n",
    "\n",
    "# Set up our plotting environment\n",
    "plt.figure(figsize=(14, 8))\n",
    "\n",
    "# Plot the training data, the results of the gold medal winning time for the Olympic men's marathon\n",
    "plt.plot(X, y, \"kx\", mew=2)\n",
    "\n",
    "# Annotate plot\n",
    "plt.legend(labels=[\"winning time\"]), plt.xlim((1890, 2018))\n",
    "plt.xlabel(\"year\"), plt.ylabel(\"pace (minutes per kilometer)\")\n",
    "plt.title(\"Olympic men's marathon gold medal winning times from 1896 to 2012\");"
   ]
  },
  {
   "cell_type": "markdown",
   "metadata": {},
   "source": [
    "Notice that there is what looks like an outlier in 1904, which may make it difficult to fit a Gaussian likelhood to the data.\n",
    "\n",
    "We will attempt to fit a Gaussian process regression model using a Gaussian likelihood. This is equivalent to the regressions we were performing yesterday, which assumed that we could perform exact Gaussian inference due to Gaussian likelihood. The model we used in `GPy` had all of these presets assumed: `models.GPRegression()`, however we will manually set the inference method and likelhood using the `core.GP()` class, which gives us more flexibility for customisation.\n",
    "\n",
    "The likelihood functions can be found in `GPy.likelihoods`, and we will use `likelihoods.Gaussian()` here, with the variance set to $1.0$. The inference methods for a GP can be found in `GPy.inference.latent_function_inference`, from which we will use `ExactGaussianInference()`, which exploit the properties of tractability we gain from having Gaussian assumptions."
   ]
  },
  {
   "cell_type": "code",
   "execution_count": null,
   "metadata": {
    "scrolled": true
   },
   "outputs": [],
   "source": [
    "k = GPy.kern.RBF(1, name=\"rbf\")\n",
    "\n",
    "# The below GP setup is equivalent to\n",
    "#   m = GPy.models.GPRegression(X, y, k)\n",
    "# which sets the inference and likelihood to be exact Gaussian inference by default\n",
    "\n",
    "m = GPy.core.GP( # Note that we are using the core GP model here, which allows us \n",
    "    X, y,        # .. to tailor the inference and likelihood later\n",
    "    kernel = k,  # ... for now we replicate the defaults\n",
    "    inference_method = GPy.inference.latent_function_inference.ExactGaussianInference(),# Exact Gaussian inference\n",
    "    likelihood = GPy.likelihoods.Gaussian(variance=1.) # Gaussian likelihood\n",
    ")\n",
    "m.optimize()\n",
    "\n",
    "m"
   ]
  },
  {
   "cell_type": "markdown",
   "metadata": {},
   "source": [
    "We predict the race pace defined by the latent function for every year. We will plot the latent function only by not including the likelihood in our prediction. This is equivalent to using `m.predict_noiseless()`, because our likelihood here is latent function augmented with the (zero-mean) Gaussian noise attributed to the measurements. You could try including the likelihood, and see how it incorporates the uncertainty by increasing the confidence intervals about the mean."
   ]
  },
  {
   "cell_type": "code",
   "execution_count": null,
   "metadata": {
    "scrolled": true
   },
   "outputs": [],
   "source": [
    "Xnew = np.arange(1890,2019)[:, None] # predict winning pace every year between 1890 and 2018\n",
    "\n",
    "mean, Cov = m.predict(Xnew, include_likelihood=False)\n",
    "\n",
    "plt.figure(figsize=(18,6))\n",
    "# Plot the GP prediction of the latent function with training points\n",
    "plot_gp(Xnew, mean, Cov, training_points=(X,y))\n",
    "# Annotate plot\n",
    "plt.title(\"Exact GP fit of latent function $f$ describing marathon pace in min/km, assuming a Gaussian likelihood\");"
   ]
  },
  {
   "cell_type": "markdown",
   "metadata": {},
   "source": [
    "While this may seem like an adequate fit, it can be observed that the outlier at 1904 is affecting the mean estimate, as it appears consistently higher than observed measurements for the next three decades. This is due to the Gaussian likelihood assumption means that the regression is heavily affected by the outliers. \n",
    "\n",
    "We could alternatively use a heavy tailed [Student's $t$-distribution](https://en.wikipedia.org/wiki/Student%27s_t-distribution) which can reduce the influence of outliers in the inference. Consider the regression model$^\\ast$:\n",
    "$$\n",
    "    \\frac{1}{\\sigma^2}(\\mathbf{y} - f(\\mathbf{X})) \\sim \\mathcal{T}(\\nu)\n",
    "$$\n",
    "\n",
    "However, we cannot trivially extend the Gaussian process updates to find the posterior, so some approximation method needs to be used. We will use Laplace's method for approximating the posterior integrals with a Gaussian distribution using second order Taylor expansions. `GPy` contains the utility to include a Laplace approximation in our `GP`.\n",
    "\n",
    "$^\\ast$_note that we write the regression model like this because Student's $t$-distribution is defined with zero mean, and controlled by $\\nu$, the degrees of freedom, only. However, we include a scaling parameter, $\\sigma^2$ that is equivalent to the variance in our likelihood model (see the Gaussian likelihood example above)_"
   ]
  },
  {
   "cell_type": "code",
   "execution_count": null,
   "metadata": {
    "scrolled": true
   },
   "outputs": [],
   "source": [
    "Xnew = np.arange(1890,2019)[:, None] # predict winning pace every year between 1890 and 2018\n",
    "\n",
    "# We define a Student's t distribution with default nu=5.0 and sigma^2=2.0\n",
    "# ... nu describes the degrees of freedom\n",
    "t_dist  = GPy.likelihoods.StudentT(deg_free=5., sigma2=2.)\n",
    "\n",
    "# We will use the same kernel, an RBF do desribe the trend and a Bias term to offset the fit\n",
    "k = GPy.kern.RBF(1, lengthscale=5.) + GPy.kern.Bias(1, variance=4.)\n",
    "\n",
    "# We fit the model as before, but customise the likelihood (with the t-distribution),\n",
    "# .. and approximate inference method, here using Laplace\n",
    "\n",
    "m = GPy.core.GP( # Note that we are using the core GP model here, which allows us \n",
    "    X, y,        # .. to tailor the inference and likelihood, instead of the default\n",
    "    kernel = k,  #  .. GP regression model used previously\n",
    "    inference_method = GPy.inference.latent_function_inference.Laplace(), # Laplace approximation for inference\n",
    "    likelihood = t_dist # Our Student's t-distribution with initial parameters defined above\n",
    ")\n",
    "\n",
    "# Optimise the kernel and likelihood parameters\n",
    "m.optimize()\n",
    "\n",
    "# Preview our model\n",
    "m"
   ]
  },
  {
   "cell_type": "markdown",
   "metadata": {},
   "source": [
    "Notice that in our list of parameters, we no longer have `Gaussian_noise.variance`, which was the parameter of the Gaussian likelihood, and instead have `Student_T.t_scale2` and `Student_T.deg_free` which correspond respectively to the scale (equivalent to variance), and degrees of freedom that describe our Student's $t$-distribution."
   ]
  },
  {
   "cell_type": "code",
   "execution_count": null,
   "metadata": {
    "scrolled": true
   },
   "outputs": [],
   "source": [
    "# We plot the latent function without the likelhood\n",
    "#   This is equivalent to predict_noiseless in the previous lab\n",
    "mean, Cov = m.predict(Xnew, include_likelihood=False)\n",
    "\n",
    "# We will also predict the median and 95% confidence intervals of the likelihood\n",
    "quantiles = m.predict_quantiles(Xnew, quantiles=(2.5, 50., 97.5), likelihood=m.likelihood)\n",
    "\n",
    "# Prepare figure environment\n",
    "plt.figure(figsize=(18,6))\n",
    "\n",
    "plt.subplot(121)\n",
    "# Plot the GP fit of our latent function f(X)\n",
    "plot_gp(Xnew, mean, Cov)\n",
    "\n",
    "# Annotate plot\n",
    "plt.ylim((2.5, 5.5))\n",
    "plt.title(\"GP regression fit of latent function\")\n",
    "\n",
    "\n",
    "plt.subplot(122)\n",
    "# Plot the median of the predicted likelihood\n",
    "plt.plot(Xnew, quantiles[1], \".\")\n",
    "# Add a confidence interval between the 2.5 and 97.5 quantiles (95% of predicted data)\n",
    "plt.fill_between(Xnew[:,0], quantiles[0][:,0], quantiles[2][:,0], alpha=0.5)\n",
    "# Plot observations\n",
    "plt.plot(X, y, \"kx\", mew=2)\n",
    "\n",
    "# Annotate plot\n",
    "plt.xlabel(\"year\"), plt.ylabel(\"pace (minutes per kilometer)\"), plt.ylim((2.5, 5.5))\n",
    "plt.title(\"Predicted median observations with 95% confidence intervals\");\n",
    "plt.legend(labels=[\"median prediction\", \"actual results\", \"95% confidence interval\"]);"
   ]
  },
  {
   "cell_type": "markdown",
   "metadata": {},
   "source": [
    "When building our confidence intervals in the likelihood, we can no longer rely on the properties of the Gaussian that allow us to build our intervals as a proportion of the standard deviation. Instead, we must obtain the quantiles from the inverse cumulative density function. To obtain the confidence interval, containing 95% of samples from our fit, we must evaluate our inverse CDF at 0.025 and 0.975 (e.g. 2.5% and 97.5% respectively). We also plot the median (i.e. the 50% quantile). `GPy` allows us to obtain the quantiles of the prediction likelihood directly, using `predict_quantiles()`.\n",
    "\n",
    "We could also also obtain the variance (in the usual way) and plot it as an alternative representation of the uncertainty in our fit."
   ]
  },
  {
   "cell_type": "markdown",
   "metadata": {},
   "source": [
    "### Exercise 1\n",
    "\n",
    "Comment on the fit using the Student's $t$-distribution. Can you make a reasonable prediction (with confidence intervals) for the gold medal time in the 2016 Olympics? How does it compare to the true value ($2016, 3.05$). What about predictions for the next 3 Olympics?"
   ]
  },
  {
   "cell_type": "raw",
   "metadata": {},
   "source": []
  },
  {
   "cell_type": "code",
   "execution_count": null,
   "metadata": {
    "scrolled": true
   },
   "outputs": [],
   "source": []
  },
  {
   "cell_type": "markdown",
   "metadata": {},
   "source": [
    "---\n",
    "## 3. Classification with Gaussian Processes\n",
    "\n",
    "A common type of problem with non-Gaussian likelihoods are classification problems. Indeed, if the input is some real number and the output is a binary integer or numeric value corresponding to a class, we can often consider these as regression problems with a Bernoulli or categorical likelihood. Using the tricks we have learned above, we should be able to apply Gaussian process priors to a classification problem.\n",
    "\n",
    "There are different approximation techniques we could use. In the previous example, we used the Laplace approximation, but other alternatives include expectation propagation (EP) and stoachastic variational inference (SVI). Note that `GPy` has a `GPClassification` model that contains sensible defaults, much like the `GPRegression` model used in Lab 1. However, we will construct our GP and manually set the likelihood and approximate inference methods."
   ]
  },
  {
   "cell_type": "markdown",
   "metadata": {},
   "source": [
    "### Simulating a binary classification problem\n",
    "\n",
    "For posterity, we will generate a latent function $f$ that we _know_ is a Gaussian process, by simulating it given an RBF covariance function. We will then use a mapping of the latent function using a [probit](https://en.wikipedia.org/wiki/Probit) transform (which maps a function to $[0,1]$ and is denoted $\\Phi$) and sample from the resulting [Bernoulli distribution](https://en.wikipedia.org/wiki/Bernoulli_distribution)."
   ]
  },
  {
   "cell_type": "code",
   "execution_count": null,
   "metadata": {
    "scrolled": true
   },
   "outputs": [],
   "source": [
    "# This is important for reproducing the latent function\n",
    "np.random.seed(4092018)\n",
    "\n",
    "# The covariance in the latent function is an RBF with l=0.2\n",
    "k = GPy.kern.RBF(1, variance=1., lengthscale=0.2)\n",
    "\n",
    "# Create a smooth GP latent function\n",
    "Xnew   = np.linspace(0., 1., 1000)[:, None]\n",
    "f_true = np.random.multivariate_normal(np.zeros(1000), k.K(Xnew,Xnew))\n",
    "\n",
    "## Random sample space over [0, 1]\n",
    "ix = np.sort(np.random.randint(0, 999, 200))\n",
    "X, f = Xnew[ix],  f_true[ix]"
   ]
  },
  {
   "cell_type": "markdown",
   "metadata": {},
   "source": [
    "Note this is an example of a latent function that we have simulated using a _known_ covariance function &ndash; as opposed to our previous GP regression problem, where we only _assumed_ the nature of the covariance function. We will, however, be passing the latent function through a non-Gaussian likelihood over which we can no longer exactly infer the original latent function.\n",
    "\n",
    "Hence, the regression problem is defined:\n",
    "\n",
    "$$\n",
    "    \\mathbf{y} = \\begin{bmatrix}y_1 \\\\ \\vdots \\\\ y_N\\end{bmatrix}, \\quad y_i \\sim \\mathcal{Bernoulli}\\left(p_i\\right)\\ \\text{for }i\\in 1,\\ldots,N \\qquad \\text{where } p_i = \\Phi\\left(f(x_i\\right))\n",
    "$$\n",
    "\n",
    "The sample inputs are indexed from the set $\\mathbf{X} = \\{x_1, \\ldots, x_N\\}$"
   ]
  },
  {
   "cell_type": "code",
   "execution_count": null,
   "metadata": {
    "scrolled": true
   },
   "outputs": [],
   "source": [
    "# Squash the latent function between [0, 1] using the probit link function\n",
    "probit = GPy.likelihoods.link_functions.Probit()\n",
    "\n",
    "# Demonstrate the transformation done by the latent function\n",
    "p_s = probit.transf(f_true) # e.g. p_X in the above equation\n",
    "\n",
    "# We then draw samples form a Bernoulli distribution with success probability equal\n",
    "# .. to the transformed latent function\n",
    "y = GPy.likelihoods.Bernoulli(gp_link=probit).samples(f)[:, None]"
   ]
  },
  {
   "cell_type": "markdown",
   "metadata": {},
   "source": [
    "We'll plot the latent function (which is a smooth Gaussian process), and samples, showing the squashed probability function of the Bernoulli distribution, and the random samples drawn at the sample locations."
   ]
  },
  {
   "cell_type": "code",
   "execution_count": null,
   "metadata": {
    "scrolled": true
   },
   "outputs": [],
   "source": [
    "plt.figure(figsize=(18, 6))\n",
    "\n",
    "# Plot latent function and sample locations\n",
    "plt.subplot(121)\n",
    "plt.plot(Xnew, f_true, '-', X, f, \"bx\", mew=3)\n",
    "\n",
    "# Annotate plot\n",
    "plt.xlabel(\"$x$\"), plt.ylabel(\"$f(x)$\")\n",
    "plt.legend(labels=[\"Latent function\", \"Sample locations\"])\n",
    "plt.title(\"Latent function $f$ with samples $f(\\mathbf{X})$ plotted\")\n",
    "\n",
    "# Plot the probit squashed f and samples from the corresponding Bernoulli distribution\n",
    "plt.subplot(122)\n",
    "plt.plot(X, y, 'kx', Xnew, p_s, \"-\", mew=3)\n",
    "\n",
    "# Annotate plot\n",
    "plt.xlabel(\"$x$\"), plt.ylabel(\"$y$/$p(y=1)$\")\n",
    "plt.legend(labels=[\"Binary observations\", \"Squashed latent function: $\\Phi(f(\\cdot))$\"], loc='center right')\n",
    "plt.title(\"Observations sampled from Bernoulli distributions with probability $\\Phi(f(\\cdot))$\");"
   ]
  },
  {
   "cell_type": "markdown",
   "metadata": {},
   "source": [
    "### GP Regression with Bernoulli Likelihood\n",
    "\n",
    "While the regression problem described here may seem _harder_ than modelling the Olympic marathon data with a Student's $t$-distribution, the steps to go through using `GPy` are just as simple.\n",
    "\n",
    "We will need to define a kernel, a likelihood, and an inference method. Since we know the kernel used to generate the latent function above, we will reuse that (in most cases, this will be unknown). We also know the likelihood used to obtain the measurements (because we defined it to simulate them): a Bernoulli likelihood defined by taking the probit transform of the latent function. We will approximate the posterior of the latent function using these assumptions using the Laplace approximation, as with the $t$-distribution example.\n",
    "\n",
    "Note, we could also use expectation propagation, `latent_function_inference.EP()`, but in such a simple case the choice of inference approximation method is not going to make much difference."
   ]
  },
  {
   "cell_type": "code",
   "execution_count": null,
   "metadata": {
    "scrolled": true
   },
   "outputs": [],
   "source": [
    "# We use the kernel used to generate f\n",
    "k = GPy.kern.RBF(1, variance=1., lengthscale=0.2)\n",
    "\n",
    "# And a Bernoulli likelihood\n",
    "B_dist = GPy.likelihoods.Bernoulli(gp_link=probit)\n",
    "\n",
    "m = GPy.core.GP( # Note that we are using the core GP model here, which allows us \n",
    "    X, y,        # .. to tailor the inference and likelihood, instead of the default\n",
    "    kernel = k,  #  .. GP regression model used previously\n",
    "    inference_method = GPy.inference.latent_function_inference.Laplace(), # Laplace approximation for inference\n",
    "    likelihood = B_dist # Our Bernoulli likelihood as defined above\n",
    ")\n",
    "\n",
    "m.optimize()\n",
    "\n",
    "# Preview our model\n",
    "m"
   ]
  },
  {
   "cell_type": "code",
   "execution_count": null,
   "metadata": {
    "scrolled": true
   },
   "outputs": [],
   "source": [
    "# We plot the latent function without the likelhood\n",
    "#   This is equivalent to predict_noiseless in the previous lab\n",
    "mean, Cov = m.predict(Xnew, include_likelihood=False, full_cov=True)\n",
    "\n",
    "# We will also predict the median and 95% confidence intervals of the likelihood\n",
    "quantiles = m.predict_quantiles(Xnew, quantiles=np.array([50.]), likelihood=m.likelihood)\n",
    "prob, _ = m.predict(Xnew, include_likelihood=True) # Probability function for Bernoulli\n",
    "\n",
    "# Prepare figure environment\n",
    "plt.figure(figsize=(18,6))\n",
    "\n",
    "plt.subplot(121)\n",
    "# Plot the GP fit of our latent function f(X)\n",
    "plot_gp(Xnew, mean, Cov)\n",
    "\n",
    "plt.plot(Xnew, f_true, \"--\")\n",
    "# Annotate plot\n",
    "plt.title(\"GP fit of latent function with Bernoulli likelihood\")\n",
    "\n",
    "plt.subplot(122)\n",
    "# Plot the median and mean of the predicted likelihood\n",
    "plt.plot(Xnew, quantiles[0], \"-\", Xnew, prob, \"-\")\n",
    "plt.plot(X, y, \"kx\", mew=2)\n",
    "\n",
    "# Annotate plot\n",
    "plt.xlabel(\"$x$\"), plt.ylabel(\"$p(y=1)$\")\n",
    "plt.title(\"Classifier prediction\");\n",
    "plt.legend(labels=[\"median GP likelihood\", \"Bernoulli probability\", \"training points\"]);"
   ]
  },
  {
   "cell_type": "markdown",
   "metadata": {},
   "source": [
    "Here we have plotted the inferred latent function $f$, and on the right, the mean and median of the predicted likelihood. In the Bernoulli distribution, the mean is the probability parameter, $p_i$ of the Bernoulli distribution, and the median is defined as $1$ if $p_i > (1-p_i)$, $0.5$ if $p_i = (1-p_i)$ and $0$ otherwise. This makes it a suitable candidate for a decision boundary, as demonstrated in the above plot."
   ]
  },
  {
   "cell_type": "markdown",
   "metadata": {},
   "source": [
    "### Multiple Input Classification\n",
    "\n",
    "We can apply the above example to a 2-D classification example. Taking the multi-input example from Lab 1, we will define our latent function, $f(x_i, x_j)$, as the product of sinusoids in the respective input dimensions $x_i$ and $x_j$ and create a classifier that evaluates an input based on whether it's greater than zero or not:\n",
    "\n",
    "$$\n",
    "    y(x_i,x_j) = \\begin{cases}1 & \\text{if } f(x_i,x_j) + \\varepsilon > 0 \\\\ 0 & \\text{otherwise} \\end{cases},\n",
    "$$\n",
    "\n",
    "where $\\varepsilon \\sim \\mathcal{N}(0, 1e-4)$ describes some random observation noise in our classifier. Note that this is not exactly a Bernoulli distribution, as was the case in the previous example, but we will attempt to fit it with one with our GP regression model."
   ]
  },
  {
   "cell_type": "code",
   "execution_count": null,
   "metadata": {
    "scrolled": true
   },
   "outputs": [],
   "source": [
    "# Lambda function, f, the unknown function we are trying to predict\n",
    "f = lambda xi,xj: np.sin(xi) * np.sin(xj)\n",
    "\n",
    "# Our test grid\n",
    "[Xi, Xj] = np.meshgrid(np.linspace(-np.pi, np.pi, 50), np.linspace(-np.pi, np.pi, 50))\n",
    "\n",
    "# Number of samples [YOU CAN PLAY AROUND WITH THE NUMBER OF RANDOM SAMPLES TO SEE HOW THE FIT IS AFFECTED]\n",
    "num_measurements = 50\n",
    "\n",
    "# Random sample locations (2-D)\n",
    "X2 = np.random.uniform(-np.pi, np.pi, (num_measurements, 2))\n",
    "\n",
    "# Setup plot enviornment\n",
    "plt.figure(figsize=(14, 6))\n",
    "\n",
    "plt.subplot(121)\n",
    "# Show true function\n",
    "plt.contour(Xi, Xj, f(Xi,Xj))\n",
    "# Annotate plot\n",
    "plt.xlabel(\"$x_1$\"), plt.ylabel(\"$x_2$\")\n",
    "plt.colorbar()\n",
    "plt.title(\"$f(x_1,x_2)$\"), plt.axis(\"square\")\n",
    "\n",
    "# Our observations, y = 1 if [f(x1,x2) + epsilon > 0]otherwise 0\n",
    "y = np.array(f(X2[:,0], X2[:,1]) + 0.01*np.random.randn(num_measurements) > 0, dtype=np.int)[:, None]\n",
    "\n",
    "plt.subplot(122)\n",
    "# Show sample locations\n",
    "plt.plot(X2[np.where(y == 0),0], X2[np.where(y == 0),1],'bo') # Plot 0 class\n",
    "plt.plot(X2[np.where(y == 1),0], X2[np.where(y == 1),1],'ro') # Plot 1 class\n",
    "# Annotate plot\n",
    "plt.xlabel(\"$x_1$\"), plt.ylabel(\"$x_2$\"), plt.axis(\"square\")\n",
    "plt.title(\"Samples (blue = 0, red = 1)\");"
   ]
  },
  {
   "cell_type": "markdown",
   "metadata": {},
   "source": [
    "### Exercise 2\n",
    "\n",
    "(a) Fit a Gaussian process to the observation data for the 2-D classification example, using a Bernoulli likelihood. Try and recover the probability surface for the Bernoulli distribution over input space `Xnew2`.\n",
    "\n",
    "_Remember from Lab 1 that we need to reshape our output into a grid the same shape as our inputs: e.g._ `mean2.reshape(Xi.shape)`"
   ]
  },
  {
   "cell_type": "code",
   "execution_count": null,
   "metadata": {
    "scrolled": true
   },
   "outputs": [],
   "source": [
    "Xnew2 = np.vstack((Xi.ravel(), Xj.ravel())).T # Change our input grid to list of coordinates\n",
    "\n",
    "# Put your answer here"
   ]
  },
  {
   "cell_type": "markdown",
   "metadata": {},
   "source": [
    "(b) Find a decision boundary and plot it over the input space `Xnew2` along with the samples. What do you think of the decision boundary? Does it capture the rules of the classifier?"
   ]
  },
  {
   "cell_type": "code",
   "execution_count": null,
   "metadata": {
    "scrolled": true
   },
   "outputs": [],
   "source": []
  },
  {
   "cell_type": "markdown",
   "metadata": {},
   "source": [
    "(c) As mentioned before, the mean of a Bernoulli distribution is $p$. The variance is defined by $p(1-p)$. Plot the variance of your GP likelihood fit and comment on how it might reflect the uncertainty in the predicted classifier."
   ]
  },
  {
   "cell_type": "code",
   "execution_count": null,
   "metadata": {
    "scrolled": false
   },
   "outputs": [],
   "source": []
  },
  {
   "cell_type": "raw",
   "metadata": {},
   "source": []
  },
  {
   "cell_type": "markdown",
   "metadata": {},
   "source": [
    "---\n",
    "## 4. Sparse Gaussian Processes\n",
    "\n",
    "The non-parametric formulation that characterises Gaussian processes makes the cost of inference prohibitive when the number of data observations is large. The computational cost of inference is $\\mathscr{O}(N^3)$, where $N$ is the number of observations, for full GP regression, as a result of matrix inversions required to calculate the posterior. In order to deal with this, an augmentation of the GP regression model called _sparse GPs_ aims to use a small set of _inducing variables_ to approximate the probability space. The driving idea is to find a posterior over the smaller set of $M (\\ll N)$ inducing variables instead of over $N$ training points to reduce the computational requirements. The challenge, then, is to find the set of inducing variables and model parameters that best approximate the full GP.\n",
    "\n",
    "In the following example, we will explicitly be working with Gaussian likelihoods again, to introduce the concept of sparse approximation in a simple setting. It is possible to extend sparse GPs to non-Gaussian likelihoods, which we will discuss at the end of this notebook."
   ]
  },
  {
   "cell_type": "markdown",
   "metadata": {},
   "source": [
    "### Full versus Sparse Gaussian Process Regression\n",
    "\n",
    "In the following example, we will simulate some observations sampled from a GP, and compare the results of sparse and full regression.\n",
    "\n",
    "First we will generate $N=50$ samples from a GP:"
   ]
  },
  {
   "cell_type": "code",
   "execution_count": null,
   "metadata": {
    "scrolled": true
   },
   "outputs": [],
   "source": [
    "# This is important for reproducing the latent function\n",
    "np.random.seed(40918)\n",
    "\n",
    "# The covariance in the latent function is an RBF with l=0.2\n",
    "k = GPy.kern.RBF(1, variance=1., lengthscale=0.1)\n",
    "\n",
    "# Create a smooth GP latent function\n",
    "X = np.sort(np.random.rand(50, 1), 0)\n",
    "y = np.random.multivariate_normal(np.zeros(50), k.K(X,X) + 0.01*np.eye(50))[:, None]"
   ]
  },
  {
   "cell_type": "markdown",
   "metadata": {},
   "source": [
    "While $N=50$ is not a _huge_ number of data, this example will show that we can get a reasonably accurate fit with only a small number of inducing variables, $M=3$. This will reduce the complexity of full GP regression, $\\mathscr{O}(N^3)$, to $\\mathscr{O}(NM^2)$, which is clearly a useful reduction in computational requirements &ndash; even in this basic example, we can see $450 \\ll 125000$.\n",
    "\n",
    "We make use of the `SparseGPRegression` model which, like the `GPRegression` model, has sensible defaults that we don't need to worry about for this example. The `SparseGPRegression` assumes a Gaussian likelihood and uses exact Gaussian inference. We could also define these explicitly using `core.SVGP`, which is the sparse equivalent of `core.GP` that we used above, allowing us to define the inference method, and likelihood."
   ]
  },
  {
   "cell_type": "code",
   "execution_count": null,
   "metadata": {
    "scrolled": true
   },
   "outputs": [],
   "source": [
    "# Our sample space for predictions from the posterior\n",
    "Xnew = np.linspace(-0.1, 1.1, 1000)[:, None]\n",
    "\n",
    "# The covariance we used to generate the samples (assumed)\n",
    "k = GPy.kern.RBF(1, variance=1., lengthscale=0.1)\n",
    "\n",
    "# Prepare figure enviroment\n",
    "plt.figure(figsize=(18, 6))\n",
    "\n",
    "plt.subplot(121)\n",
    "## First we fit with full GP regression \n",
    "m = GPy.models.GPRegression(X, y, kernel=k)\n",
    "m.Gaussian_noise.variance = 0.01\n",
    "\n",
    "# Note we don't even optimise the hyperparameters because they are known here\n",
    "mean_full, Cov_full = m.predict(Xnew, full_cov=True)\n",
    "\n",
    "# We plot our regression fit of the likelihood\n",
    "plot_gp(Xnew, mean_full, Cov_full, training_points=(X, y))\n",
    "plt.title(\"Full GP regression\")\n",
    "\n",
    "\n",
    "plt.subplot(122) \n",
    "## Next, we define M=3 inducing points randomly within the sample space\n",
    "Z = np.random.rand(3, 1)\n",
    "\n",
    "# We fit with sparse GP regression using randomly assigned inducing variables\n",
    "m = GPy.models.SparseGPRegression(X, y, Z=Z, kernel=k)\n",
    "m.Gaussian_noise.variance = 0.01\n",
    "m.Gaussian_noise.fix() # We fix the Gaussian observation noise\n",
    "\n",
    "# We will not optimise any of the hyperparameters again\n",
    "mean_sparse_rand, Cov_sparse_rand = m.predict(Xnew, full_cov=True)\n",
    "\n",
    "# Plot the posterior of the likelihood fit using a sparse GP\n",
    "plot_gp(Xnew, mean_sparse_rand, Cov_sparse_rand, training_points=(X, y))\n",
    "# Plot the randomly assigned inducing variables\n",
    "plt.plot(Z, [plt.ylim()[0] for _ in Z], 'b^', mew=3)\n",
    "         \n",
    "## We are now going to optimise the model\n",
    "# We will optimise the inducing point locations and the \n",
    "# .. kernel hyperparameters with respect to each other (remember the noise is fixed)\n",
    "m.optimize()\n",
    "\n",
    "# We predict the optimised sparse GP fit\n",
    "mean_sparse_opt, Cov_sparse_opt = m.predict(Xnew, full_cov=True)\n",
    "\n",
    "# We plot our new mean\n",
    "plot_gp(Xnew, mean_sparse_opt, Cov_sparse_opt)\n",
    "# Plot optimised inducing variable locations\n",
    "plt.plot(m.Z, [plt.ylim()[0] for _ in m.Z], 'y^', mew=3)\n",
    "\n",
    "# Annotate plot\n",
    "plt.xlim((-0.1, 1.1)), plt.title(\"Sparse GP regression with 3 inducing variables\")\n",
    "plt.legend(labels=[\"sparse fit\", \"sample points\", \"random inducing locations\", \"optimised sparse fit\", \"optimised inducing locations\"]);"
   ]
  },
  {
   "cell_type": "markdown",
   "metadata": {},
   "source": [
    "With such a small number of data points, it's clearly a better option to use full Gaussian process regression here. However, our optimised sparse GP fit produces a sufficiently good fit of the data considering the small ($M=3$) number of inducing variables used. It should be clear that when we have a substantially larger number of data points $N$, using sparse GPs will provide a scalable solution when it is no longer feasible to calculate the full GP."
   ]
  },
  {
   "cell_type": "markdown",
   "metadata": {},
   "source": [
    "### A Longer Example\n",
    "\n",
    "In the next example, we will try and use sparse GPs to approximate an unknown function for which we have a large number of (noisy) observations.\n",
    "\n",
    "Consider the function\n",
    "$$\n",
    "    f(x) = \\sin(2\\pi x) + \\sin(25\\pi x) + \\sin(5\\pi x) + \\sin(11\\pi x)\n",
    "$$\n",
    "\n",
    "We have a large number of observations, $N=5000$:\n",
    "\n",
    "$$\n",
    "    \\mathbf{y} = f(\\mathbf{X}) + \\varepsilon,\n",
    "$$\n",
    "\n",
    "and for now, we will assume a Gaussian likelihood: $\\varepsilon \\sim \\mathcal{N}(0, \\sigma^2)$"
   ]
  },
  {
   "cell_type": "code",
   "execution_count": null,
   "metadata": {
    "scrolled": true
   },
   "outputs": [],
   "source": [
    "# True latent function\n",
    "f = lambda x: sum([np.sin(w*np.pi*x) for w in [2, 25, 5, 11]])\n",
    "\n",
    "N = 5000 # large number of observations\n",
    "\n",
    "# Random sample locations\n",
    "X = np.sort(np.random.rand(N)[:,None])\n",
    "# N noisy observations of the latent function with variance 0.01\n",
    "y = f(X) + 0.1*np.random.randn(N, 1)\n",
    "\n",
    "#== Plot samples\n",
    "plt.figure(figsize=(14, 6))\n",
    "\n",
    "# Plot points (since there's a lot we make them slightly transparent)\n",
    "plt.plot(X, y, 'k.', mew=0.1, alpha=0.5)\n",
    "\n",
    "# Annotate plot\n",
    "plt.xlabel(\"$x$\"), plt.ylabel(\"$y$\")\n",
    "plt.legend(labels=[\"%d observations\" % N]);"
   ]
  },
  {
   "cell_type": "markdown",
   "metadata": {},
   "source": [
    "Clearly, if we tried to fit full GP regression to this, we would face some problems with the sheer computational resources required for matrix inversion in the Gaussian process equations.\n",
    "\n",
    "We will use a sparse GP with a small number of inducing points, $M=20$, to try and fit the function. Given the large number of points, we will make some adjustments of the optimiser. We will cap the number of iterations to save time in the lab. These options are given to the `m.optimize()` function. We also add a small amount ($\\sigma^2=10^{-6}$) of white noise to our kernel function to avoid any ill-posedness that may occur in the matrix calculations."
   ]
  },
  {
   "cell_type": "code",
   "execution_count": null,
   "metadata": {
    "scrolled": true
   },
   "outputs": [],
   "source": [
    "# Number of inducing variables\n",
    "M = 20\n",
    "\n",
    "# We define M inducing variables sampled uniformly throughout our input space\n",
    "Z = np.linspace(0., 1., M)[:, None]\n",
    "\n",
    "# We assume the covariance to be an RBF, and add a white noise term for numerical stability\n",
    "k = GPy.kern.RBF(1, lengthscale=0.05, name=\"rbf\") + GPy.kern.White(1, name=\"white\")\n",
    "\n",
    "# Define a sparse GP with Gaussian likelihood\n",
    "m = GPy.core.SparseGP(\n",
    "    X, y, Z,\n",
    "    kernel = k,\n",
    "    likelihood = GPy.likelihoods.Gaussian(),\n",
    "    inference_method = GPy.inference.latent_function_inference.FITC()\n",
    ")\n",
    "\n",
    "# We define the white noise variance to 10^-6 and fix this\n",
    "m.kern.white.variance = 1.e-6\n",
    "m.kern.white.fix()\n",
    "\n",
    "# We will also fix the inducing points\n",
    "m.Z.fix()\n",
    "\n",
    "# We limit the number of iterations here, to limit the maximum runtime\n",
    "# .. We will also allow the optimiser to print progress messages while it is running\n",
    "m.optimize(max_iters=2500, messages=1)\n",
    "\n",
    "# Preview our sparse GP model\n",
    "m"
   ]
  },
  {
   "cell_type": "code",
   "execution_count": null,
   "metadata": {
    "scrolled": true
   },
   "outputs": [],
   "source": [
    "# We create a prediction space defined over the observation space\n",
    "Xnew = np.linspace(0., 1., 2000)[:, None]\n",
    "\n",
    "# We predict a likelihood free estimate of our latent functon\n",
    "mean, Cov = m.predict(Xnew)\n",
    "\n",
    "# Set up figure environment\n",
    "plt.figure(figsize=(18, 6))\n",
    "\n",
    "# Plot the sparse GP prediction\n",
    "plot_gp(Xnew, mean, Cov)\n",
    "\n",
    "# Plot observations\n",
    "plt.plot(X, y, 'k.', mew=0.1, alpha=0.5)\n",
    "\n",
    "# Plot inducing variable locations\n",
    "plt.plot(m.Z, [plt.ylim()[0] for _ in m.Z], 'rv', mew=3)\n",
    "\n",
    "# Annotate plot\n",
    "plt.xlim((0., 1.))\n",
    "plt.title(\"Sparse GP with uniform inducing variables\")\n",
    "plt.legend(labels=[\"GP fit\", \"Observations\", \"Inducing points\"]);"
   ]
  },
  {
   "cell_type": "markdown",
   "metadata": {},
   "source": [
    "### Exercise 3\n",
    "\n",
    "(a) How do you feel about the fit? Based on what you learned in the Lab 1, what changes might you make to the kernel used?"
   ]
  },
  {
   "cell_type": "raw",
   "metadata": {
    "scrolled": true
   },
   "source": []
  },
  {
   "cell_type": "markdown",
   "metadata": {},
   "source": [
    "(b) In the above example, we sampled the inducing variable locations uniformly. However, we can also optimise the inducing points during the fitting. Experiment with unfixing `Z` (`m.Z.unfix()`), changing the number of inducing points `M`, and see how this affects the fit. Why might this be a better or worse assumption, given the distribution of the data ?"
   ]
  },
  {
   "cell_type": "code",
   "execution_count": null,
   "metadata": {
    "scrolled": false
   },
   "outputs": [],
   "source": []
  },
  {
   "cell_type": "markdown",
   "metadata": {},
   "source": [
    "## 5. Stochastic Variational Inference for GPs on Big Data with Non-Gaussian Likelihood\n",
    "In the case of sparse regression of functions with a Gaussian likelihood, it is a relatively straightforward computation to calculate the posterior of a GP fit. However, for sparse approximation of non-Gaussian likelihoods, we must rely on sampling or quadrature methods to approximate the expectations. Luckily, with `GPy`, we can perform these approximations using a combination of the same routines that we have used previously.\n",
    "\n",
    "We will first load up a dataset for a binary classification problem in 2-D. The data has a large number of observations, occuring in a complex geometry. We use the _Banana_ dataset as our classification problem. By default, the categories are labeled $-1$ and $1$, but we will map these to $[0, 1]$ so we can model the classification problem with a Bernoulli likelihood.\n",
    "\n",
    "Data Source: _J. Alcalá-Fdez, A. Fernandez, J. Luengo, J. Derrac, S. García, L. Sánchez, F. Herrera. KEEL Data-Mining Software Tool: Data Set Repository, Integration of Algorithms and Experimental Analysis Framework. Journal of Multiple-Valued Logic and Soft Computing 17:2-3 (2011) 255-287_"
   ]
  },
  {
   "cell_type": "code",
   "execution_count": null,
   "metadata": {
    "scrolled": false
   },
   "outputs": [],
   "source": [
    "# Load data from file, make sure banana.csv is in the same directory as this notebook\n",
    "data = np.genfromtxt('../.resources/banana.csv', delimiter=',')\n",
    "\n",
    "# Dimension of data\n",
    "D = data.shape[1]-1\n",
    "\n",
    "# Seperate our data (input) from its corresponding label output\n",
    "# .. note we have to rescale from [-1,1] to [0,1] for a Bernoulli distribution\n",
    "X, y = data[:,:D], (0.5 + data[:,-1]/2)[:, None]\n",
    "\n",
    "# We will plot our data as well\n",
    "plt.figure(figsize=(8,8))\n",
    "\n",
    "# Plot 0 class in blue\n",
    "plt.plot(X[np.where(y == 0),0],X[np.where(y == 0),1], 'bo', mew=0.5, alpha=0.5)\n",
    "# Plot 1 class in red\n",
    "plt.plot(X[np.where(y == 1),0],X[np.where(y == 1),1], 'ro', mew=0.5, alpha=0.5)\n",
    "\n",
    "# Annotate plot\n",
    "plt.xlabel(\"$x_1$\"), plt.ylabel(\"$x_2$\")\n",
    "plt.title(\"Banana Dataset (red=1, blue=0)\")\n",
    "plt.axis(\"square\"), plt.xlim((-3, 3)), plt.ylim((-3, 3));"
   ]
  },
  {
   "cell_type": "markdown",
   "metadata": {},
   "source": [
    "In this example, we are going to use a variational sparse GP framework, where we approximate the likelihood with a _variational distribution_. For problems with a large number data, even sparse approximations can still have trouble scaling. A recent extension, particularly for classification of large data sets with GPs is using _stochastic variational inference_ for sparse GPs$^1$.\n",
    "\n",
    "Given a large number of data, $N$, stochastic inference utilises some randomly selected _mini-batch_ of size $B$, over which we approximate the variational evidence lower bound as a noisy subsample, with the mini-batch sizes reducing much of the computational cost.\n",
    "\n",
    "We will use our sparse GP framework with the `core.SVGP` object in `GPy`. For now, we will just use an anisotropic `RBF` kernel with some fixed white noise, again $\\sigma^2=10^{-6}$. We use a Bernoulli likelihood with a probit link function, as in our previous examples, though we alternatively could try a sigmoid, or other link functions for this problem.\n",
    "\n",
    "Because we are using a sparse approximation, we are already making approximating the likelihood using a variational model. As a result, we don't need to specify our inference model, such as Laplace approximation. We will also use the density information to guide our inducing variable locations: we fit $k$-means and take the centroids as _fixed_ locations to save the optimiser some work. For now, we will use $M=8$ inducing variables.\n",
    "\n",
    "The final things to consider are the size of our mini-batches, i.e. the number of samples we take from our data during each iteration, and the choice of optimiser: we want a stochastic optimiser, and in this example we will use Adadelta.\n",
    "\n",
    "$^1$ Hensman, J., Matthews, A.G.d.G. and Ghahramani, Z., 2015. [_Scalable variational Gaussian process classification_](https://arxiv.org/abs/1411.2005)"
   ]
  },
  {
   "cell_type": "code",
   "execution_count": null,
   "metadata": {
    "scrolled": true
   },
   "outputs": [],
   "source": [
    "from scipy.cluster.vq import kmeans\n",
    "\n",
    "# Number of inducing points\n",
    "M = 8\n",
    "\n",
    "# Our initial inducing points, assigned with k-means\n",
    "Z = 1. * kmeans(X, M)[0]\n",
    "\n",
    "# We use a 2-D anisotropic RBF kernel here, to allow us different lengthscales in each direction\n",
    "k = GPy.kern.RBF(D, active_dims=[0, 1], ARD=True) + GPy.kern.White(D, variance=1.e-6)\n",
    "\n",
    "# Bernoulli likelihood\n",
    "B_dist  = GPy.likelihoods.Bernoulli(gp_link=probit)\n",
    "\n",
    "# size of minibatch\n",
    "batchsize = 10\n",
    "\n",
    "# Fit a sparse variational Gaussian process our data, inducing points and a Bernoulli likelihood\n",
    "m = GPy.core.SVGP(\n",
    "    X, y, Z,\n",
    "    kernel=GPy.kern.RBF(D, active_dims=[0, 1], ARD=True) + GPy.kern.White(D, variance=1.e-6),\n",
    "    likelihood=B_dist,\n",
    "    batchsize=batchsize\n",
    ")\n",
    "\n",
    "# We will fix the white noise of our kernel to 10^-6\n",
    "m.kern.white.fix();\n",
    "\n",
    "# Fix the inducing inputs to the kmeans initialised locations\n",
    "m.Z.fix();"
   ]
  },
  {
   "cell_type": "markdown",
   "metadata": {},
   "source": [
    "#### Stochastic Optimisation\n",
    "\n",
    "Whereas previously we have used deterministic optimisers to optimise the parameters, here we will make use of a stochastic optimiser that will take minibatches of the data. In this example, we will use `Adadelta`:"
   ]
  },
  {
   "cell_type": "code",
   "execution_count": null,
   "metadata": {
    "scrolled": true
   },
   "outputs": [],
   "source": [
    "## if you cannot run climin make sure that it is installed by uncommenting\n",
    "# !pip install git+https://github.com/BRML/climin\n",
    "\n",
    "from climin import Adadelta"
   ]
  },
  {
   "cell_type": "markdown",
   "metadata": {},
   "source": [
    "The following cell contains some utilities for showing the optimiser. We create a widget for jupyter, and create a callback function that the optimiser will execute during each iteration, until the callback returns `True`."
   ]
  },
  {
   "cell_type": "code",
   "execution_count": null,
   "metadata": {
    "scrolled": true
   },
   "outputs": [],
   "source": [
    "## This is a small utility for giving realtime output of the optimiser\n",
    "import ipywidgets\n",
    "\n",
    "logpy = ipywidgets.Label(align='right')\n",
    "prog  = ipywidgets.FloatProgress(value=0., min=0., max=1.)\n",
    "progress_widget = ipywidgets.HBox([prog, ipywidgets.Label(\"obj : \"), logpy])\n",
    "\n",
    "def write_out(*v):\n",
    "    ''' writes progress and loss to the widget '''\n",
    "    prog.value, logpy.value = v\n",
    "\n",
    "max_iter = 2000\n",
    "# callback during each optimisation step\n",
    "def callback(i):\n",
    "    ''' callback during each optimisation step: prints progress and loss, and exits after max_iterations'''\n",
    "    write_out(i['n_iter']/max_iter, str(-m.log_likelihood()))\n",
    "    if i['n_iter'] > max_iter:\n",
    "        return True # when True is returned, the optimiser will stop\n",
    "    return False"
   ]
  },
  {
   "cell_type": "markdown",
   "metadata": {},
   "source": [
    "We can now set up and execute the optimiser to minimise the objective function of the model: the negative log-likelihood."
   ]
  },
  {
   "cell_type": "code",
   "execution_count": null,
   "metadata": {
    "scrolled": true
   },
   "outputs": [],
   "source": [
    "# Display the progress widget\n",
    "display(progress_widget)\n",
    "\n",
    "# Initialise optimiser with model parameters and gradients\n",
    "opt = Adadelta(m.optimizer_array, m.stochastic_grad)\n",
    "\n",
    "# Minimise negative log likelihood until callback returns True (i.e. after max_iter runs) \n",
    "_ = opt.minimize_until(callback)\n",
    "\n",
    "# Print final model\n",
    "display(m)"
   ]
  },
  {
   "cell_type": "markdown",
   "metadata": {},
   "source": [
    "We want to look at the classifer created by our regression fit. The best way to do this is to model the probability surface of the Bernoulli likelihood. This is defined as our latent function approximated through the probit transform, and serves as a good representation of classifer. We will also plot the _median_ of the Bernoulli likelihood, as we did in the 1-D example, which gives us a good point estimate of a decision boundary.\n",
    "\n",
    "Remember, we can calculate the variance of a Bernoulli distribution with $p(1-p)$, where $p$ is our squashed mean latent function that serves as the probability of the likelihood.\n",
    "\n",
    "We will define a prediction space over $[-3, 3] \\times [-3, 3]$:"
   ]
  },
  {
   "cell_type": "code",
   "execution_count": null,
   "metadata": {
    "scrolled": true
   },
   "outputs": [],
   "source": [
    "Xi, Xj = np.meshgrid(np.linspace(-3., 3., 100), np.linspace(-3., 3., 100))\n",
    "Xnew2 = np.vstack((Xi.ravel(), Xj.ravel())).T # Change our input grid to list of coordinates\n",
    "\n",
    "# Predict the mean of the likelihood, which serves as our Bernoulli probability\n",
    "prob, _ = m.predict(Xnew2, include_likelihood=True)\n",
    "# Define a decision boundary by finding the median (the point where the probability switches between >0.5 and <0.5)\n",
    "quantiles = m.predict_quantiles(Xnew2, quantiles=np.array([50.]), likelihood=m.likelihood)"
   ]
  },
  {
   "cell_type": "markdown",
   "metadata": {},
   "source": [
    "We will create a utility plot tool to speed up plotting results:"
   ]
  },
  {
   "cell_type": "code",
   "execution_count": null,
   "metadata": {
    "scrolled": true
   },
   "outputs": [],
   "source": [
    "def plot_2d_decision(Xi, Xj, prob, quantiles):\n",
    "    # Create our figure environment\n",
    "    plt.figure(figsize=(18,6))\n",
    "\n",
    "    #### We plot first the probability of our Bernoulli likelihood\n",
    "    plt.subplot(121)\n",
    "\n",
    "    # Plot the mean likelihood\n",
    "    plt.contourf(Xi, Xj, prob.reshape(Xi.shape))\n",
    "    # Plot the median of the predicted likelihood\n",
    "    plt.contour(Xi, Xj, quantiles[0].reshape(Xi.shape))\n",
    "\n",
    "    # Plot the data points\n",
    "    plt.plot(X[np.where(y == 0),0],X[np.where(y == 0),1],'bo', mew=0.5, alpha=0.2)\n",
    "    plt.plot(X[np.where(y == 1),0],X[np.where(y == 1),1],'ro', mew=0.5, alpha=0.2)\n",
    "\n",
    "    # Plot the inducing variables\n",
    "    plt.plot(Z[:,0], Z[:,1],'k^')\n",
    "\n",
    "    # Annotate plot\n",
    "    plt.xlabel(\"$x_1$\"), plt.ylabel(\"$x_2$\")\n",
    "    plt.axis(\"square\"), plt.xlim((-3, 3)), plt.ylim((-3, 3))\n",
    "    plt.title(\"Mean of Bernoulli likelihood representing the classifier\")\n",
    "    plt.colorbar();\n",
    "\n",
    "    #### We will also plot the variance of the classifer\n",
    "    plt.subplot(122)\n",
    "    # We can extract the variance from our mean function estimation of the Bernoulli distribution. \n",
    "    plt.pcolor(Xi, Xj, (prob*(1.-prob)).reshape(Xi.shape))\n",
    "\n",
    "    # Annotate plot\n",
    "    plt.xlabel(\"$x_1$\"), plt.ylabel(\"$x_2$\")\n",
    "    plt.title(\"Variance of classifier\")\n",
    "    plt.axis(\"square\"), plt.xlim((-3, 3)), plt.ylim((-3, 3))\n",
    "    plt.colorbar();"
   ]
  },
  {
   "cell_type": "code",
   "execution_count": null,
   "metadata": {
    "scrolled": true
   },
   "outputs": [],
   "source": [
    "plot_2d_decision(Xi, Xj, prob, quantiles)"
   ]
  },
  {
   "cell_type": "markdown",
   "metadata": {},
   "source": [
    "### Exercise 4\n",
    "\n",
    "(a) In the above example, we preset the number of inducing points to $M=8$ and fixed their positions to the centroids of a $k$-means clustering. Try experimenting with using random initialisation, optimisation of inducing point locations, and changing the number of inducing points. How does this affect the accuracy of the model, and the time it takes to infer a posterior?\n",
    "\n",
    "(b) How does the size of the minibatch affect the results ?"
   ]
  },
  {
   "cell_type": "code",
   "execution_count": null,
   "metadata": {
    "scrolled": true
   },
   "outputs": [],
   "source": []
  },
  {
   "cell_type": "raw",
   "metadata": {},
   "source": []
  },
  {
   "cell_type": "markdown",
   "metadata": {},
   "source": [
    "---\n",
    "### Credit\n",
    "\n",
    "This notebook was written by Wil Ward. It adapted from notebooks by [Rich Wilkinson](https://rich-d-wilkinson.github.io/) and [Neil Lawrence](http://inverseprobability.com/), and [James Hensman](http://jameshensman.github.io/). Additional writing and examples were provided by Fariba Yousefi and Juan Jose Giraldo Gutierrez."
   ]
  }
 ],
 "metadata": {
  "@webio": {
   "lastCommId": null,
   "lastKernelId": null
  },
  "kernelspec": {
   "display_name": "Python 3 (GPSS)",
   "language": "python",
   "name": "python_3_gpss"
  },
  "language_info": {
   "codemirror_mode": {
    "name": "ipython",
    "version": 3
   },
   "file_extension": ".py",
   "mimetype": "text/x-python",
   "name": "python",
   "nbconvert_exporter": "python",
   "pygments_lexer": "ipython3",
   "version": "3.6.12"
  }
 },
 "nbformat": 4,
 "nbformat_minor": 2
}
